{
 "cells": [
  {
   "cell_type": "markdown",
   "metadata": {},
   "source": [
    "# OneStopEnglish: Data Cleaning and EDA\n",
    "This script imports the One Stop English corpus, which consists of leveled text entries (beginner, intermediate, advanced) aligned to the same topic. Several features of the text entries are calculated using the `textstat` and `spacy` packages. These numerical features are then exported to a csv so they can be incoporated in a machine learning classification model that evaluates text complexity. Additional csv files are exported to finetune simpleGPT2 models for text generation. A list of the data prepared in this script is included below:\n",
    "1. One column CSV files containing only text entries to be used to train NLP (simpleGPT2) models:\n",
    "    1. _OSE\\_adv\\_int_: Matched advanced and intermediate texts, difficulty separated by indicator.\n",
    "    1. _OSE\\_adv\\_ele_: Matched advanced and elementary texts, difficulty separated by indicator.\n",
    "    1. _OSE\\_int\\_ele_: Matched intermediate adn elementary texts, difficulty separated by indicator.\n",
    "1. A dataframe containing numerical characteristics about text entries to be used in training ML models to evaluate text complexity.\n",
    "    1. _OSE\\_TextFeat_"
   ]
  },
  {
   "cell_type": "code",
   "execution_count": 1,
   "metadata": {},
   "outputs": [],
   "source": [
    "# Import packages\n",
    "import numpy as np\n",
    "import pandas as pd\n",
    "import spacy\n",
    "import nltk\n",
    "import re\n",
    "import textstat\n",
    "import os\n",
    "from os import listdir\n",
    "from os.path import join, isfile\n",
    "import chardet"
   ]
  },
  {
   "cell_type": "code",
   "execution_count": 2,
   "metadata": {},
   "outputs": [],
   "source": [
    "# Function splits text, t, into sentences\n",
    "def sent_break(t):\n",
    "    nlp = spacy.load('en_core_web_sm')\n",
    "    doc = nlp(t)\n",
    "    return doc.sents\n",
    "\n",
    "# Function counts the number of words in text t\n",
    "def word_count(t):\n",
    "    sents = sent_break(t)\n",
    "    n_words = 0\n",
    "    for s in sents:\n",
    "        n_words += len([token for token in s])\n",
    "    return n_words\n",
    "\n",
    "# Function counts the number of sentences in text t\n",
    "def sent_count(t):\n",
    "    sents = sent_break(t)\n",
    "    return len(list(sents))"
   ]
  },
  {
   "cell_type": "code",
   "execution_count": 3,
   "metadata": {},
   "outputs": [],
   "source": [
    "# Sets option to display all text in pandas dataframes\n",
    "pd.set_option('display.max_colwidth', None)\n",
    "\n",
    "os.chdir(\"..\")\n",
    "\n",
    "# Get file path for OneStopEnglish Corpus from individual TXT files.\n",
    "RawDat = os.getcwd() + '/data_raw/OneStopEng/TextByReadingLevel/'\n",
    "\n",
    "# Set location to save clean data\n",
    "ClnDat = os.getcwd() + '/data_clean/'"
   ]
  },
  {
   "cell_type": "code",
   "execution_count": 4,
   "metadata": {},
   "outputs": [],
   "source": [
    "# For some reason there are two \"Int\" files--do not import the first, as it contains errors\n",
    "SubDir = [join(RawDat, f)+'/' for f in listdir(RawDat) if f != 'Int-Txt']\n",
    "\n",
    "# Load all texts into pandas data frame\n",
    "TextDF = pd.DataFrame()\n",
    "\n",
    "for s in SubDir:\n",
    "\n",
    "    TextFiles = listdir(s)\n",
    "\n",
    "    for t in TextFiles:\n",
    "        # There is a hidden .ds_store file that should be skipped when importing data\n",
    "        if t == '.DS_Store':\n",
    "            pass\n",
    "        else:\n",
    "            with open(s + t, 'rb') as rawdat:\n",
    "                result = chardet.detect(rawdat.read(10000))\n",
    "\n",
    "                \n",
    "            file = open(s + t, 'r', encoding = result['encoding'])\n",
    "            text = file.read()\n",
    "            file.close()\n",
    "\n",
    "            # Append text data and file name to dataframe\n",
    "            TextDF = TextDF.append({'file_nm' : t,\n",
    "                                    'text' : text},\n",
    "                                   ignore_index = True)"
   ]
  },
  {
   "cell_type": "code",
   "execution_count": 5,
   "metadata": {},
   "outputs": [],
   "source": [
    "# Isolate name and level of text\n",
    "TextDF['name'] = TextDF['file_nm'].str[:-8]\n",
    "TextDF['level'] = TextDF['file_nm'].str[-7:-4]\n",
    "TextDF['text'] = TextDF['text'].apply(str)\n",
    "\n",
    "# TextDF.groupby(['level'])['text'].count()\n",
    "\n",
    "# Intermediate text is labeled--this should be removed\n",
    "# TextDF['text'] = TextDF['text'].map(lambda x: x.lstrip('Intermediate'))\n",
    "# TextDF['text'] = TextDF['text'].str.replace('\\n', ' ')"
   ]
  },
  {
   "cell_type": "code",
   "execution_count": 6,
   "metadata": {},
   "outputs": [],
   "source": [
    "# Pivot text to level\n",
    "TextDF_w = TextDF.pivot(index = ['name'], columns = ['level'], values = ['text']).reset_index()\n",
    "\n",
    "# Flatten column index of pivot table\n",
    "TextDF_w.columns = TextDF_w.columns.map('_'.join).str.strip('_')\n",
    "\n",
    "# Match text pairs accross levels to train GPT2 Model\n",
    "TextDF_w['adv_int'] = TextDF_w['text_adv'] + '\\n |<endoflevelone>| \\n' + TextDF_w['text_int']\n",
    "TextDF_w['adv_ele'] = TextDF_w['text_adv'] + '\\n |<endoflevelone>| \\n' + TextDF_w['text_ele']\n",
    "TextDF_w['int_ele'] = TextDF_w['text_int'] + '\\n |<endoflevelone>| \\n' + TextDF_w['text_ele']\n",
    "\n",
    "# Export matched text columns to csv file to finetune SimpleGPT2, need to specify encoding or odd figures are saved\n",
    "# One column must be included for file to successfully be read into SimpleGPT2\n",
    "for lev in ['adv_int', 'adv_ele', 'int_ele']:\n",
    "    TextDF_w[lev] = TextDF_w[lev].apply(str)\n",
    "    TextDF_w[lev].to_csv(ClnDat+'OSE_'+lev+'.csv', encoding = 'utf-8-sig', index = False)"
   ]
  },
  {
   "cell_type": "code",
   "execution_count": 7,
   "metadata": {},
   "outputs": [],
   "source": [
    "# Clean text (text_c) by lowering, removing numbers, removing symbols, and reducing to single space\n",
    "TextDF['text_c'] = TextDF['text'].str.lower().str.replace(r'[^a-zA-Z\\s]', '')\n",
    "TextDF['text_c'] = TextDF['text_c'].str.replace(r'\\n', ' ').str.replace(r'\\s+\\s', ' ')"
   ]
  },
  {
   "cell_type": "code",
   "execution_count": 8,
   "metadata": {},
   "outputs": [],
   "source": [
    "# This step is separate from the other text statistic computations because it takes a longer time to run\n",
    "# Compute text difficulty using textstat\n",
    "TextDF['difficulty'] = TextDF['text'].apply(textstat.flesch_reading_ease)\n",
    "\n",
    "# Compute sentence length\n",
    "TextDF['n_sent'] = TextDF['text'].apply(sent_count)"
   ]
  },
  {
   "cell_type": "code",
   "execution_count": 16,
   "metadata": {},
   "outputs": [],
   "source": [
    "# Compute additional text statistics\n",
    "TextDF['n_syll'] = TextDF['text'].apply(textstat.syllable_count) # Number of syllables\n",
    "TextDF['n_lex'] = TextDF['text'].apply(textstat.lexicon_count) # Number of words\n",
    "TextDF['lex_sent'] = TextDF['n_lex']/TextDF['n_sent'] # Word to sentence ratio\n",
    "TextDF['syll_lex'] = TextDF['n_syll']/TextDF['n_lex'] # Syllable to word ratio\n",
    "\n",
    "# Save text statistc data to csv\n",
    "TextDF.to_csv(ClnDat+'OSE_TextFeat.csv', encoding = 'utf-8-sig', index = False)"
   ]
  },
  {
   "cell_type": "code",
   "execution_count": 10,
   "metadata": {},
   "outputs": [
    {
     "data": {
      "text/plain": [
       "level\n",
       "adv    AxesSubplot(0.125,0.125;0.775x0.755)\n",
       "ele    AxesSubplot(0.125,0.125;0.775x0.755)\n",
       "int    AxesSubplot(0.125,0.125;0.775x0.755)\n",
       "Name: n_sent, dtype: object"
      ]
     },
     "execution_count": 10,
     "metadata": {},
     "output_type": "execute_result"
    },
    {
     "data": {
      "image/png": "[encoded data removed]",
      "text/plain": [
       "<Figure size 432x288 with 1 Axes>"
      ]
     },
     "metadata": {
      "needs_background": "light"
     },
     "output_type": "display_data"
    }
   ],
   "source": [
    "TextDF.groupby('level')['n_sent'].plot(kind = 'hist', legend = True, alpha = 0.5, \n",
    "                                       title = 'Number of Sentences by Text Level')"
   ]
  },
  {
   "cell_type": "code",
   "execution_count": 11,
   "metadata": {},
   "outputs": [
    {
     "data": {
      "text/plain": [
       "level\n",
       "adv    AxesSubplot(0.125,0.125;0.775x0.755)\n",
       "ele    AxesSubplot(0.125,0.125;0.775x0.755)\n",
       "int    AxesSubplot(0.125,0.125;0.775x0.755)\n",
       "Name: n_syll, dtype: object"
      ]
     },
     "execution_count": 11,
     "metadata": {},
     "output_type": "execute_result"
    },
    {
     "data": {
      "image/png": "[encoded data removed]",
      "text/plain": [
       "<Figure size 432x288 with 1 Axes>"
      ]
     },
     "metadata": {
      "needs_background": "light"
     },
     "output_type": "display_data"
    }
   ],
   "source": [
    "TextDF.groupby('level')['n_syll'].plot(kind = 'hist', legend = True, alpha = 0.5, \n",
    "                                       title = 'Number of Syllables by Text Level')"
   ]
  },
  {
   "cell_type": "code",
   "execution_count": 12,
   "metadata": {},
   "outputs": [
    {
     "data": {
      "text/plain": [
       "level\n",
       "adv    AxesSubplot(0.125,0.125;0.775x0.755)\n",
       "ele    AxesSubplot(0.125,0.125;0.775x0.755)\n",
       "int    AxesSubplot(0.125,0.125;0.775x0.755)\n",
       "Name: n_lex, dtype: object"
      ]
     },
     "execution_count": 12,
     "metadata": {},
     "output_type": "execute_result"
    },
    {
     "data": {
      "image/png": "[encoded data removed]",
      "text/plain": [
       "<Figure size 432x288 with 1 Axes>"
      ]
     },
     "metadata": {
      "needs_background": "light"
     },
     "output_type": "display_data"
    }
   ],
   "source": [
    "TextDF.groupby('level')['n_lex'].plot(kind = 'hist', legend = True, alpha = 0.5,\n",
    "                                      title = 'Number of Words by Text Level')"
   ]
  },
  {
   "cell_type": "code",
   "execution_count": 13,
   "metadata": {},
   "outputs": [
    {
     "data": {
      "text/plain": [
       "level\n",
       "adv    AxesSubplot(0.125,0.125;0.775x0.755)\n",
       "ele    AxesSubplot(0.125,0.125;0.775x0.755)\n",
       "int    AxesSubplot(0.125,0.125;0.775x0.755)\n",
       "Name: lex_sent, dtype: object"
      ]
     },
     "execution_count": 13,
     "metadata": {},
     "output_type": "execute_result"
    },
    {
     "data": {
      "image/png": "[encoded data removed]",
      "text/plain": [
       "<Figure size 432x288 with 1 Axes>"
      ]
     },
     "metadata": {
      "needs_background": "light"
     },
     "output_type": "display_data"
    }
   ],
   "source": [
    "TextDF.groupby('level')['lex_sent'].plot(kind = 'hist', legend = True, alpha = 0.5,\n",
    "                                         title = 'Word to Sentence Ratio by Text Level')"
   ]
  },
  {
   "cell_type": "code",
   "execution_count": 14,
   "metadata": {},
   "outputs": [
    {
     "data": {
      "text/plain": [
       "level\n",
       "adv    AxesSubplot(0.125,0.125;0.775x0.755)\n",
       "ele    AxesSubplot(0.125,0.125;0.775x0.755)\n",
       "int    AxesSubplot(0.125,0.125;0.775x0.755)\n",
       "Name: syll_lex, dtype: object"
      ]
     },
     "execution_count": 14,
     "metadata": {},
     "output_type": "execute_result"
    },
    {
     "data": {
      "image/png": "[encoded data removed]",
      "text/plain": [
       "<Figure size 432x288 with 1 Axes>"
      ]
     },
     "metadata": {
      "needs_background": "light"
     },
     "output_type": "display_data"
    }
   ],
   "source": [
    "TextDF.groupby('level')['syll_lex'].plot(kind = 'hist', legend = True, alpha = 0.5, \n",
    "                                         title = 'Syllable to Word Ratio by Text Level')"
   ]
  },
  {
   "cell_type": "code",
   "execution_count": 15,
   "metadata": {},
   "outputs": [
    {
     "data": {
      "text/plain": [
       "level\n",
       "adv    AxesSubplot(0.125,0.125;0.775x0.755)\n",
       "ele    AxesSubplot(0.125,0.125;0.775x0.755)\n",
       "int    AxesSubplot(0.125,0.125;0.775x0.755)\n",
       "Name: difficulty, dtype: object"
      ]
     },
     "execution_count": 15,
     "metadata": {},
     "output_type": "execute_result"
    },
    {
     "data": {
      "image/png": "[encoded data removed]",
      "text/plain": [
       "<Figure size 432x288 with 1 Axes>"
      ]
     },
     "metadata": {
      "needs_background": "light"
     },
     "output_type": "display_data"
    }
   ],
   "source": [
    "TextDF.groupby('level')['difficulty'].plot(kind = 'hist', legend = True, alpha = 0.5, \n",
    "                                           title = 'Readability Score by Text Level')"
   ]
  },
  {
   "cell_type": "code",
   "execution_count": null,
   "metadata": {},
   "outputs": [],
   "source": [
    "###################################\n",
    "# IMPORT DATA STORED IN CSV FILES #\n",
    "###################################\n",
    "\n",
    "# Get file path to OneStopEnglish Corpus including combined CSV files.\n",
    "FilePath = os.getcwd() + '/OneStopEng/TextOneCSVPerFile/'\n",
    "\n",
    "# Texts are organized by difficulty level\n",
    "Files = listdir(FilePath)\n",
    "\n",
    "# Import all texts into pandas dataframe\n",
    "oseDF = pd.DataFrame() # Initialize dataframe\n",
    "\n",
    "# Loop through all files\n",
    "for f in Files:\n",
    "    \n",
    "    # Files have different encodings\n",
    "    # Find the encoding for each file and use that in read_csv command\n",
    "    with open(FilePath + f, 'rb') as rawdat:\n",
    "        result = chardet.detect(rawdat.read(10000))\n",
    "        \n",
    "    oseDFA = pd.read_csv(FilePath + f, encoding = result['encoding'])\n",
    "    oseDFA['name'] = f\n",
    "    \n",
    "    oseDF = oseDF.append(oseDFA)"
   ]
  }
 ],
 "metadata": {
  "kernelspec": {
   "display_name": "Python 3",
   "language": "python",
   "name": "python3"
  },
  "language_info": {
   "codemirror_mode": {
    "name": "ipython",
    "version": 3
   },
   "file_extension": ".py",
   "mimetype": "text/x-python",
   "name": "python",
   "nbconvert_exporter": "python",
   "pygments_lexer": "ipython3",
   "version": "3.8.5"
  }
 },
 "nbformat": 4,
 "nbformat_minor": 4
}
