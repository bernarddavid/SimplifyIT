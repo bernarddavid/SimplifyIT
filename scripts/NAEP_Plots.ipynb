{
 "cells": [
  {
   "cell_type": "code",
   "execution_count": 1,
   "metadata": {},
   "outputs": [],
   "source": [
    "import pandas as pd\n",
    "import os\n",
    "from matplotlib import pyplot as plt\n",
    "from matplotlib import cm\n",
    "import seaborn as sns"
   ]
  },
  {
   "cell_type": "code",
   "execution_count": 2,
   "metadata": {},
   "outputs": [],
   "source": [
    "Grades = ['G4', 'G8']\n",
    "StuGrp = ['All', 'RaceEth']\n",
    "gr = 'G8'\n",
    "sg = 'All'\n",
    "\n",
    "# Save Figures \n",
    "FigLoc = '../figures/'\n",
    "\n",
    "# Clean Data Location\n",
    "ClnDat = '../data_raw/ContextualData/'\n",
    "# Load data\n",
    "ReadDF = pd.read_csv(ClnDat+'NDECoreExcel_Reading_'+gr+'_'+sg+'.csv')\n",
    "\n",
    "if sg == 'RaceEth':\n",
    "    ReadDF.columns = ['Year', 'juris', 'stugrp', 'Below Basic', 'Basic', 'Proficient', 'Advanced']\n",
    "if sg == 'All':\n",
    "    ReadDF.columns = ['Year', 'juris', 'stugrp', 'Below Basic', 'Basic', 'Proficient', 'Advanced']\n",
    "\n",
    "\n",
    "ReadDF = ReadDF.drop(columns = ['juris'])\n",
    "ReadDF['Below Basic'] = (-1)*ReadDF['Below Basic']\n",
    "ReadDF['Basic'] = (-1)*ReadDF['Basic']"
   ]
  },
  {
   "cell_type": "code",
   "execution_count": 3,
   "metadata": {},
   "outputs": [
    {
     "data": {
      "text/plain": [
       "<Figure size 432x288 with 0 Axes>"
      ]
     },
     "metadata": {},
     "output_type": "display_data"
    },
    {
     "data": {
      "image/png": "[encoded data removed]",
      "text/plain": [
       "<Figure size 432x288 with 1 Axes>"
      ]
     },
     "metadata": {
      "needs_background": "light"
     },
     "output_type": "display_data"
    }
   ],
   "source": [
    "plt.figure()\n",
    "plt.rcParams.update({'font.size': 14})\n",
    "\n",
    "ReadDF.sort_values('Year') \\\n",
    "    .plot.bar(x = 'Year', stacked = True, title = 'NAEP Reading, '+gr, alpha = 0.75, fontsize = 10) \\\n",
    "    .legend(loc='center left' ,bbox_to_anchor=(1.0, 0.5))\n",
    "\n",
    "plt.savefig(FigLoc + 'ReadLev' + gr + '.png', dpi = 300, transparent = True, bbox_inches = 'tight')"
   ]
  },
  {
   "cell_type": "code",
   "execution_count": 4,
   "metadata": {},
   "outputs": [
    {
     "data": {
      "text/html": [
       "<div>\n",
       "<style scoped>\n",
       "    .dataframe tbody tr th:only-of-type {\n",
       "        vertical-align: middle;\n",
       "    }\n",
       "\n",
       "    .dataframe tbody tr th {\n",
       "        vertical-align: top;\n",
       "    }\n",
       "\n",
       "    .dataframe thead th {\n",
       "        text-align: right;\n",
       "    }\n",
       "</style>\n",
       "<table border=\"1\" class=\"dataframe\">\n",
       "  <thead>\n",
       "    <tr style=\"text-align: right;\">\n",
       "      <th></th>\n",
       "      <th>Year</th>\n",
       "      <th>stugrp</th>\n",
       "      <th>Below Basic</th>\n",
       "      <th>Basic</th>\n",
       "      <th>Proficient</th>\n",
       "      <th>Advanced</th>\n",
       "      <th>Grade</th>\n",
       "      <th>Not Proficient</th>\n",
       "      <th>On Level</th>\n",
       "    </tr>\n",
       "  </thead>\n",
       "  <tbody>\n",
       "    <tr>\n",
       "      <th>0</th>\n",
       "      <td>2019</td>\n",
       "      <td>All students</td>\n",
       "      <td>34</td>\n",
       "      <td>31</td>\n",
       "      <td>26</td>\n",
       "      <td>9</td>\n",
       "      <td>4</td>\n",
       "      <td>65</td>\n",
       "      <td>35</td>\n",
       "    </tr>\n",
       "    <tr>\n",
       "      <th>1</th>\n",
       "      <td>2017</td>\n",
       "      <td>All students</td>\n",
       "      <td>32</td>\n",
       "      <td>31</td>\n",
       "      <td>27</td>\n",
       "      <td>9</td>\n",
       "      <td>4</td>\n",
       "      <td>63</td>\n",
       "      <td>36</td>\n",
       "    </tr>\n",
       "    <tr>\n",
       "      <th>2</th>\n",
       "      <td>2015</td>\n",
       "      <td>All students</td>\n",
       "      <td>31</td>\n",
       "      <td>33</td>\n",
       "      <td>27</td>\n",
       "      <td>9</td>\n",
       "      <td>4</td>\n",
       "      <td>64</td>\n",
       "      <td>36</td>\n",
       "    </tr>\n",
       "    <tr>\n",
       "      <th>3</th>\n",
       "      <td>2013</td>\n",
       "      <td>All students</td>\n",
       "      <td>32</td>\n",
       "      <td>33</td>\n",
       "      <td>27</td>\n",
       "      <td>8</td>\n",
       "      <td>4</td>\n",
       "      <td>65</td>\n",
       "      <td>35</td>\n",
       "    </tr>\n",
       "    <tr>\n",
       "      <th>4</th>\n",
       "      <td>2011</td>\n",
       "      <td>All students</td>\n",
       "      <td>33</td>\n",
       "      <td>34</td>\n",
       "      <td>26</td>\n",
       "      <td>8</td>\n",
       "      <td>4</td>\n",
       "      <td>67</td>\n",
       "      <td>34</td>\n",
       "    </tr>\n",
       "  </tbody>\n",
       "</table>\n",
       "</div>"
      ],
      "text/plain": [
       "   Year        stugrp  Below Basic  Basic  Proficient  Advanced Grade  \\\n",
       "0  2019  All students           34     31          26         9     4   \n",
       "1  2017  All students           32     31          27         9     4   \n",
       "2  2015  All students           31     33          27         9     4   \n",
       "3  2013  All students           32     33          27         8     4   \n",
       "4  2011  All students           33     34          26         8     4   \n",
       "\n",
       "   Not Proficient  On Level  \n",
       "0              65        35  \n",
       "1              63        36  \n",
       "2              64        36  \n",
       "3              65        35  \n",
       "4              67        34  "
      ]
     },
     "execution_count": 4,
     "metadata": {},
     "output_type": "execute_result"
    }
   ],
   "source": [
    "Grades = ['G4', 'G8']\n",
    "StuGrp = ['All', 'RaceEth']\n",
    "gr = 'G8'\n",
    "sg = 'All'\n",
    "\n",
    "ReadDF = pd.DataFrame()\n",
    "for gr in Grades:\n",
    "    ClnDat = '../data_raw/ContextualData/'\n",
    "    ReadDF0 = pd.read_csv(ClnDat+'NDECoreExcel_Reading_'+gr+'_'+sg+'.csv')\n",
    "    if sg == 'RaceEth':\n",
    "        ReadDF0.columns = ['Year', 'juris', 'stugrp', 'Below Basic', 'Basic', 'Proficient', 'Advanced']\n",
    "    if sg == 'All':\n",
    "        ReadDF0.columns = ['Year', 'juris', 'stugrp', 'Below Basic', 'Basic', 'Proficient', 'Advanced']\n",
    "    ReadDF0['Grade'] = gr[1:]\n",
    "    ReadDF = ReadDF.append(ReadDF0)\n",
    "\n",
    "\n",
    "ReadDF = ReadDF.drop(columns = ['juris'])\n",
    "\n",
    "ReadDF['Not Proficient'] = ReadDF['Below Basic'] + ReadDF['Basic']\n",
    "ReadDF['On Level'] = ReadDF['Proficient'] + ReadDF['Advanced']\n",
    "ReadDF['Year'] = ReadDF['Year'].astype(int)\n",
    "# ReadDF['Below Basic'] = (-1)*ReadDF['Below Basic']\n",
    "# ReadDF['Basic'] = (-1)*ReadDF['Basic']\n",
    "ReadDF.head()"
   ]
  },
  {
   "cell_type": "code",
   "execution_count": 5,
   "metadata": {},
   "outputs": [
    {
     "data": {
      "text/plain": [
       "<Figure size 432x288 with 0 Axes>"
      ]
     },
     "metadata": {},
     "output_type": "display_data"
    },
    {
     "data": {
      "image/png": "[encoded data removed]",
      "text/plain": [
       "<Figure size 432x288 with 1 Axes>"
      ]
     },
     "metadata": {
      "needs_background": "light"
     },
     "output_type": "display_data"
    }
   ],
   "source": [
    "colors = cm.get_cmap('tab20', 20)\n",
    "clrs = [colors(6), colors(7)]\n",
    "plt.figure()\n",
    "plt.rcParams.update({'font.size': 14})\n",
    "\n",
    "ReadDF[['Year', 'Grade', 'On Level']][ReadDF['Year'] > 2000].reset_index(drop = True) \\\n",
    "    .pivot(index = ['Year'], columns = ['Grade']) \\\n",
    "    .plot(kind = 'bar', title = 'Student Reading Proficiency in the US', \n",
    "          color = clrs, ylim = (0, 100), fontsize = 10) \\\n",
    "    .legend(['4th', '8th'], loc = 'upper right', title = 'Grade')\n",
    "plt.ylabel('Percent')\n",
    "\n",
    "plt.savefig(FigLoc + 'ReadProf.png', dpi = 300, transparent = True)"
   ]
  },
  {
   "cell_type": "code",
   "execution_count": null,
   "metadata": {},
   "outputs": [],
   "source": []
  },
  {
   "cell_type": "code",
   "execution_count": null,
   "metadata": {},
   "outputs": [],
   "source": []
  }
 ],
 "metadata": {
  "kernelspec": {
   "display_name": "Python 3",
   "language": "python",
   "name": "python3"
  },
  "language_info": {
   "codemirror_mode": {
    "name": "ipython",
    "version": 3
   },
   "file_extension": ".py",
   "mimetype": "text/x-python",
   "name": "python",
   "nbconvert_exporter": "python",
   "pygments_lexer": "ipython3",
   "version": "3.7.9"
  }
 },
 "nbformat": 4,
 "nbformat_minor": 4
}
