{
 "cells": [
  {
   "cell_type": "markdown",
   "metadata": {},
   "source": [
    "# Script in development for SimplifyIT Webapp"
   ]
  },
  {
   "cell_type": "code",
   "execution_count": 1,
   "metadata": {},
   "outputs": [
    {
     "name": "stdout",
     "output_type": "stream",
     "text": [
      "WARNING:tensorflow:\n",
      "The TensorFlow contrib module will not be included in TensorFlow 2.0.\n",
      "For more information, please see:\n",
      "  * https://github.com/tensorflow/community/blob/master/rfcs/20180907-contrib-sunset.md\n",
      "  * https://github.com/tensorflow/addons\n",
      "  * https://github.com/tensorflow/io (for I/O related ops)\n",
      "If you depend on functionality not listed there, please file an issue.\n",
      "\n"
     ]
    }
   ],
   "source": [
    "# Load packages\n",
    "import pandas as pd\n",
    "import numpy as np\n",
    "import dill\n",
    "import sklearn\n",
    "import spacy\n",
    "import textstat\n",
    "import gpt_2_simple as gpt2\n",
    "from nltk.tokenize import sent_tokenize, word_tokenize\n",
    "from nltk.corpus import stopwords\n",
    "from nltk.stem import PorterStemmer\n",
    "from gensim.models import Word2Vec, Doc2Vec\n",
    "import tensorflow as tf"
   ]
  },
  {
   "cell_type": "code",
   "execution_count": 2,
   "metadata": {},
   "outputs": [],
   "source": [
    "# Input text for demonstration\n",
    "InputText = (\n",
    "'''\n",
    "When a force acts upon an object to cause a displacement of the object, it is said that work was done upon the object. In order for a force to qualify as having done work on an object, there must be a displacement and the force must cause the displacement. \n",
    "'''\n",
    ")"
   ]
  },
  {
   "cell_type": "code",
   "execution_count": 3,
   "metadata": {},
   "outputs": [],
   "source": [
    "# Set pandas to display all of text\n",
    "pd.set_option('max_colwidth', None)\n",
    "\n",
    "# File locations\n",
    "TrnMod = '../trained_models/'"
   ]
  },
  {
   "cell_type": "code",
   "execution_count": 4,
   "metadata": {},
   "outputs": [],
   "source": [
    "# Function splits text, t, into sentences\n",
    "def sent_break(t):\n",
    "    nlp = spacy.load('en_core_web_sm')\n",
    "    doc = nlp(t)\n",
    "    return doc.sents\n",
    "\n",
    "# Function counts the number of words in text t\n",
    "def word_count(t):\n",
    "    sents = sent_break(t)\n",
    "    n_words = 0\n",
    "    for s in sents:\n",
    "        n_words += len([token for token in s])\n",
    "    return n_words\n",
    "\n",
    "# Function counts the number of sentences in text t\n",
    "def sent_count(t):\n",
    "    sents = sent_break(t)\n",
    "    return len(list(sents))\n",
    "\n",
    "# Load text difficulty \n",
    "text_diff_mod = dill.load(open(TrnMod+'text_difficulty.pickle', 'rb'))"
   ]
  },
  {
   "cell_type": "code",
   "execution_count": 5,
   "metadata": {},
   "outputs": [],
   "source": [
    "# Function evaluates text difficulty: input is text and output is a difficulty level (advanced, elementary, intermediate)\n",
    "def text_difficulty(t):\n",
    "    t = [t] # Put text to list\n",
    "    df = pd.DataFrame(t, columns = ['text']) # Initiate dataframe with text\n",
    "    df['difficulty'] = df['text'].apply(textstat.flesch_reading_ease) # Flesh reading difficulty\n",
    "    df['n_sent'] = df['text'].apply(sent_count) # Number of sentences\n",
    "    df['n_syll'] = df['text'].apply(textstat.syllable_count) # Number of syllables\n",
    "    df['n_lex'] = df['text'].apply(textstat.lexicon_count) # Number of words\n",
    "    df['lex_sent'] = df['n_lex']/df['n_sent'] # Word to sentence ratio\n",
    "    df['syll_lex'] = df['n_syll']/df['n_lex'] # Syllable to word ratio\n",
    "    df = df[['difficulty', 'lex_sent', 'syll_lex', 'n_syll']] # Reduce to \n",
    "    \n",
    "    level = text_diff_mod.predict(df)[0] # Predict reading difficulty of text\n",
    "    \n",
    "    diff_dict = {0:'advanced', 1:'elementary', 2:'intermediate'} # Dictionary stores descriptors of levels\n",
    "    \n",
    "    return diff_dict[level]"
   ]
  },
  {
   "cell_type": "code",
   "execution_count": 6,
   "metadata": {},
   "outputs": [
    {
     "data": {
      "text/plain": [
       "[\n",
       " When a force acts upon an object to cause a displacement of the object, it is said that work was done upon the object.,\n",
       " In order for a force to qualify as having done work on an object, there must be a displacement and the force must cause the displacement. ]"
      ]
     },
     "execution_count": 6,
     "metadata": {},
     "output_type": "execute_result"
    }
   ],
   "source": [
    "sent_list = [s for s in sent_break(InputText)] # Split text into sentences\n",
    "sent_list"
   ]
  },
  {
   "cell_type": "code",
   "execution_count": 7,
   "metadata": {},
   "outputs": [],
   "source": [
    "# Load Doc2Vec similarity model\n",
    "similarity_mod = Doc2Vec.load(TrnMod + \"d2v.model\")\n",
    "\n",
    "# Function takes a list of words and returns a list in which all stop words are removed\n",
    "def remove_stop_words(wordlist):\n",
    "    # Get all English stop words\n",
    "    stops = set(stopwords.words(\"english\"))  \n",
    "    nostops = [w for w in wordlist if w not in stops]\n",
    "    return nostops\n",
    "\n",
    "# Function takes a list of words and returns a list of word stems\n",
    "def stem_words(wordlist):\n",
    "    # Initialize object to stem words\n",
    "    ps = PorterStemmer()\n",
    "    stems = [ps.stem(w) for w in wordlist]\n",
    "    return stems\n",
    "\n",
    "def text_similarity(t1, t2):\n",
    "    t1, t2 = str(t1), str(t2) # Convert text entries to strings\n",
    "    # Initialize data frame to clean and evaluate text \n",
    "    t = [t1, t2]\n",
    "    df = pd.DataFrame(t, columns = ['text'])\n",
    "    \n",
    "    # Prep texts for Doc2Vec similarity\n",
    "    df['text_c'] = df['text'].str.replace(r'[^a-zA-Z\\s+]', '').str.lower() # Remove numbers and symbols and convert string to lower\n",
    "    df['text_c'] = df['text_c'].str.replace('\\n', '')\n",
    "    df['text_c'] = df['text_c'].str.replace(r'\\s+\\s+', ' ') # Replace double spaces with single space\n",
    "    \n",
    "    df['text_c'] = df['text_c'].str.replace('mss', '')\n",
    "    \n",
    "    df['text_c'] = df['text_c'].apply(word_tokenize) # Tokenize text entries\n",
    "    df['text_c'] = df['text_c'].apply(stem_words) # Stem text entries\n",
    "    df['text_c'] = df['text_c'].apply(remove_stop_words) # Remove stop words\n",
    "    \n",
    "    # Calculate cosine simlarity of both sentences\n",
    "    cos_sim = similarity_mod.wv.n_similarity(df['text_c'][0], df['text_c'][1])\n",
    "    \n",
    "    return cos_sim"
   ]
  },
  {
   "cell_type": "code",
   "execution_count": 8,
   "metadata": {},
   "outputs": [],
   "source": [
    "# Function that calculates a \"fit score\" for each sentence as a functuion of whether or not meaning is maintained\n",
    "# and syllables, words, and syllable to word ratio are reduced.\n",
    "def sentence_fit(gen_text, orig_text):\n",
    "    df = pd.DataFrame(gen_text, columns = ['generated']) # Text generated from GPT2 stored in dataframe\n",
    "    df['generated'] = df['generated'].str.replace(r' +,', ',').str.replace(r' +\\.', '.') # Remove spaces in front of punctuation\n",
    "    df['similarity'] = df['generated'].apply(lambda x: text_similarity(orig_text, x)) # Assess cosine similarity betweeen sentences\n",
    "    df['n_syll'] = df['generated'].apply(textstat.syllable_count) # Count number of syllables\n",
    "    df['n_lex'] = df['generated'].apply(textstat.lexicon_count) # Count number of words\n",
    "    df['syll_lex'] = df['n_syll']/df['n_lex'] # Syllable to word ratio\n",
    "    \n",
    "    # Flags to indicate whether generated text has fewer words, syallables, or syll to word ratio\n",
    "    df['rel_syll'] = np.where(df['n_syll'] < textstat.syllable_count(orig_text), 1, 0)\n",
    "    df['rel_lex'] = np.where(df['n_lex'] < textstat.lexicon_count(orig_text), 1, 0)\n",
    "    df['rel_rat'] = np.where(df['syll_lex'] < textstat.syllable_count(orig_text)/textstat.lexicon_count(orig_text), 1, 0)\n",
    "    \n",
    "    # Sum binary indicators of relative sentence simplicity\n",
    "    df['rel_simp'] = (df['rel_syll'] + df['rel_lex'] + df['rel_rat'])/3\n",
    "    \n",
    "    # Fit score is weighted sum of similarity and relative sentence simplicity\n",
    "    # Highest score will be chosen\n",
    "    df['fit_score'] = 0.7*df['similarity'] + 0.3*df['rel_simp']\n",
    "    \n",
    "    # Subset data and rename columns\n",
    "    df = df[['generated', 'similarity', 'rel_simp', 'fit_score']]\n",
    "    df.columns = ['Generated', 'Similarity', 'Simplicity', 'Fit Score']\n",
    "    df['Original'] = orig_text\n",
    "    \n",
    "    return df"
   ]
  },
  {
   "cell_type": "code",
   "execution_count": 9,
   "metadata": {},
   "outputs": [],
   "source": [
    "# Function takes model specification for SimpleGPT2 model and input text then returns new text\n",
    "def generate_text(size, mod_dir, ft_dir, ft_dat, n_steps, input_text, n_new_sent):\n",
    "    # Simple GPT2 specifications\n",
    "    gpt2size = size\n",
    "    gpt2dir = mod_dir\n",
    "    loaddir = ft_dir\n",
    "    ft_mod = ft_dat + '_' + gpt2size + '_' + str(n_steps)\n",
    "    \n",
    "    if gpt2size == '355M':\n",
    "        sent_delim = '|<EndSentence1>|'\n",
    "    if gpt2size == '124M':\n",
    "        sent_delim = '<|textdelim|>' # Used different delimeters based on trained model\n",
    "\n",
    "\n",
    "    # Initiate tf session and load fine-tuned GPT2 model\n",
    "    tf.reset_default_graph()\n",
    "    sess = gpt2.start_tf_sess()\n",
    "    gpt2.load_gpt2(sess,\n",
    "                  run_name = ft_mod,\n",
    "                  checkpoint_dir = loaddir)\n",
    "    \n",
    "    # Split input text into list of sentences\n",
    "    sent_list = [s for s in sent_break(InputText)]\n",
    "    \n",
    "    # Initialize dataframes to return\n",
    "    all_new_sent = pd.DataFrame()\n",
    "    best_new_sent = pd.DataFrame()\n",
    "    \n",
    "    x = 0 # Start counter\n",
    "    for s in sent_list:\n",
    "        x += 1\n",
    "        orig_text = str(s).strip()\n",
    "    \n",
    "        gen_text = gpt2.generate(sess, \n",
    "                                 nsamples = n_new_sent,\n",
    "                                 prefix = '<|startoftext|>' + orig_text + sent_delim,\n",
    "                                 truncate = '<|endoftext|>',\n",
    "                                 include_prefix = False,\n",
    "                                 run_name = ft_mod,\n",
    "                                 checkpoint_dir = loaddir,\n",
    "                                 return_as_list = True,\n",
    "                                 temperature = 0.8)\n",
    "\n",
    "        AllSent = sentence_fit(gen_text, orig_text).reset_index(drop = True)\n",
    "        AllSent['SentNo'] = 'Sent'+str(x)\n",
    "        AllSent = AllSent.drop_duplicates()\n",
    "        AllSent = AllSent[(AllSent['Generated'] != AllSent['Original']) & (AllSent['Similarity'] > 0.9)]\n",
    "        \n",
    "        Sent = list(AllSent[(AllSent['Fit Score'] == AllSent['Fit Score'].max())]['Generated'])[0]\n",
    "\n",
    "        # Data frames with best fitting sentences and all sentences\n",
    "        all_new_sent = all_new_sent.append(AllSent)\n",
    "        best_new_sent = best_new_sent.append(pd.DataFrame({'SentNo': 'Sent'+str(x), \n",
    "                                                           'Original' : [orig_text],\n",
    "                                                           'Generated' : [Sent]}))\n",
    "\n",
    "    return all_new_sent.reset_index(drop = True), best_new_sent.reset_index(drop = True)\n"
   ]
  },
  {
   "cell_type": "code",
   "execution_count": 10,
   "metadata": {},
   "outputs": [
    {
     "name": "stdout",
     "output_type": "stream",
     "text": [
      "Loading checkpoint ../trained_models/checkpoint/wiki_sentence_124M_2000/model-2000\n",
      "INFO:tensorflow:Restoring parameters from ../trained_models/checkpoint/wiki_sentence_124M_2000/model-2000\n"
     ]
    }
   ],
   "source": [
    "# GPT2 Model specification that are fed into \"generate text\" function\n",
    "gpt2size = '124M' # Either '124M' or '355M'\n",
    "n_steps = 2000 # Number of steps used to train model\n",
    "gpt2dir = '../gpt2models' # Location where pre-trained gpt2 models stored\n",
    "loaddir = '../trained_models/checkpoint' # Location where fine-tuned gpt2 models stored\n",
    "ft_dat = 'wiki_sentence' # Data set on which GPT2 trained\n",
    "\n",
    "all_new, best_new = generate_text(size = gpt2size, \n",
    "                                  mod_dir = gpt2dir, \n",
    "                                  ft_dir = loaddir, \n",
    "                                  ft_dat = ft_dat, \n",
    "                                  n_steps = n_steps, \n",
    "                                  input_text =  InputText, \n",
    "                                  n_new_sent = 3)"
   ]
  },
  {
   "cell_type": "code",
   "execution_count": 11,
   "metadata": {},
   "outputs": [
    {
     "data": {
      "text/html": [
       "<div>\n",
       "<style scoped>\n",
       "    .dataframe tbody tr th:only-of-type {\n",
       "        vertical-align: middle;\n",
       "    }\n",
       "\n",
       "    .dataframe tbody tr th {\n",
       "        vertical-align: top;\n",
       "    }\n",
       "\n",
       "    .dataframe thead th {\n",
       "        text-align: right;\n",
       "    }\n",
       "</style>\n",
       "<table border=\"1\" class=\"dataframe\">\n",
       "  <thead>\n",
       "    <tr style=\"text-align: right;\">\n",
       "      <th></th>\n",
       "      <th>SentNo</th>\n",
       "      <th>Original</th>\n",
       "      <th>Generated</th>\n",
       "    </tr>\n",
       "  </thead>\n",
       "  <tbody>\n",
       "    <tr>\n",
       "      <th>0</th>\n",
       "      <td>Sent1</td>\n",
       "      <td>When a force acts upon an object to cause a displacement of the object, it is said that work was done upon the object.</td>\n",
       "      <td>When a force acts upon an object to cause a displacement of the object, it is said that work was done upon the object.</td>\n",
       "    </tr>\n",
       "    <tr>\n",
       "      <th>1</th>\n",
       "      <td>Sent2</td>\n",
       "      <td>In order for a force to qualify as having done work on an object, there must be a displacement and the force must cause the displacement.</td>\n",
       "      <td>If there is a force in a force then it must be able to move the object.</td>\n",
       "    </tr>\n",
       "  </tbody>\n",
       "</table>\n",
       "</div>"
      ],
      "text/plain": [
       "  SentNo  \\\n",
       "0  Sent1   \n",
       "1  Sent2   \n",
       "\n",
       "                                                                                                                                    Original  \\\n",
       "0                     When a force acts upon an object to cause a displacement of the object, it is said that work was done upon the object.   \n",
       "1  In order for a force to qualify as having done work on an object, there must be a displacement and the force must cause the displacement.   \n",
       "\n",
       "                                                                                                                 Generated  \n",
       "0   When a force acts upon an object to cause a displacement of the object, it is said that work was done upon the object.  \n",
       "1                                                  If there is a force in a force then it must be able to move the object.  "
      ]
     },
     "execution_count": 11,
     "metadata": {},
     "output_type": "execute_result"
    }
   ],
   "source": [
    "best_new"
   ]
  },
  {
   "cell_type": "code",
   "execution_count": 9,
   "metadata": {},
   "outputs": [
    {
     "name": "stdout",
     "output_type": "stream",
     "text": [
      "Loading checkpoint ../trained_models/checkpoint/wiki_sentence_124M_2000/model-2000\n",
      "INFO:tensorflow:Restoring parameters from ../trained_models/checkpoint/wiki_sentence_124M_2000/model-2000\n"
     ]
    }
   ],
   "source": [
    "# Parameter specifications for gpt2 model\n",
    "\n",
    "# GPT2 Model Size (either 124M or 355M)\n",
    "gpt2size = '124M'\n",
    "# Number of steps performed to train model\n",
    "n_steps = 2000\n",
    "\n",
    "# Location in which to save pretrained GPT2 model\n",
    "gpt2dir = '../gpt2models'\n",
    "\n",
    "# Location from which to load fine-tuned models\n",
    "loaddir = '../trained_models/checkpoint'\n",
    "\n",
    "# Data used to fine-tune model\n",
    "ft_dat = 'wiki_sentence'\n",
    "\n",
    "# Name of fine-tuned model\n",
    "ft_mod = ft_dat + '_' + gpt2size + '_' + str(n_steps)\n",
    "\n",
    "# Initiate tf session and load fine-tuned gpt2 model\n",
    "tf.reset_default_graph()\n",
    "sess = gpt2.start_tf_sess()\n",
    "gpt2.load_gpt2(sess,\n",
    "               run_name = ft_mod,\n",
    "               checkpoint_dir = loaddir)"
   ]
  },
  {
   "cell_type": "code",
   "execution_count": 10,
   "metadata": {},
   "outputs": [],
   "source": [
    "all_new_sent = pd.DataFrame()\n",
    "best_new_sent = pd.DataFrame()\n",
    "\n",
    "x = 0\n",
    "for s in sent_list:\n",
    "    x += 1\n",
    "    orig_text = str(s).replace('\\n', '')\n",
    "    \n",
    "    gen_text = gpt2.generate(sess, \n",
    "                             nsamples = 5,\n",
    "                             prefix = '<|startoftext|>' + orig_text + '|<EndSentence1>|',\n",
    "                             truncate = '<|endoftext|>',\n",
    "                             include_prefix = False,\n",
    "                             run_name = ft_mod,\n",
    "                             checkpoint_dir = loaddir,\n",
    "                             return_as_list = True,\n",
    "                             temperature = 0.8)\n",
    "    \n",
    "    AllSent = sentence_fit(gen_text, orig_text).sort_values(by = ['Fit Score'], ascending = False).reset_index(drop = True)\n",
    "    AllSent['SentNo'] = 'Sent'+str(x)\n",
    "    AllSent = AllSent.drop_duplicates()\n",
    "    \n",
    "    Sent = list(AllSent[AllSent['Fit Score'] == AllSent['Fit Score'].max()]['Generated Text'])[0]\n",
    "    \n",
    "    all_new_sent = all_new_sent.append(AllSent).reset_index(drop = True)\n",
    "    \n",
    "    best_new_sent = best_new_sent.append(pd.DataFrame({'SentNo': 'Sent'+str(x), 'Sentence' : [Sent]})).reset_index(drop = True)\n",
    "    "
   ]
  },
  {
   "cell_type": "code",
   "execution_count": 22,
   "metadata": {},
   "outputs": [],
   "source": [
    "bestsents = []\n",
    "for i in best_replacements['Sentence']:\n",
    "    bestsents.append(i)"
   ]
  },
  {
   "cell_type": "code",
   "execution_count": 25,
   "metadata": {},
   "outputs": [
    {
     "data": {
      "text/plain": [
       "'When a force is applied to an object, it is said that work was done upon it. These must be called displacement and the force must cause the displacement.'"
      ]
     },
     "execution_count": 25,
     "metadata": {},
     "output_type": "execute_result"
    }
   ],
   "source": [
    "' '.join(bestsents)"
   ]
  },
  {
   "cell_type": "code",
   "execution_count": 20,
   "metadata": {},
   "outputs": [
    {
     "data": {
      "text/plain": [
       "'These must be called displacement and the force must cause the displacement.'"
      ]
     },
     "execution_count": 20,
     "metadata": {},
     "output_type": "execute_result"
    }
   ],
   "source": [
    "AllSent\n",
    "Sent = list(AllSent[(AllSent['Fit Score'] == AllSent['Fit Score'].max()) & (AllSent['Similarity'] > 0.9)]['Generated Text'])[0]\n",
    "\n",
    "Sent"
   ]
  },
  {
   "cell_type": "code",
   "execution_count": 15,
   "metadata": {},
   "outputs": [],
   "source": [
    "# Generate replacement text from fine-tuned gpt2 model\n",
    "gen_text = gpt2.generate(sess, \n",
    "                         nsamples = 5,\n",
    "                         prefix = '<|startoftext|>' + test_text + '|<EndSentence1>|',\n",
    "                         truncate = '<|endoftext|>',\n",
    "                         include_prefix = False,\n",
    "                         run_name = ft_mod,\n",
    "                         checkpoint_dir = loaddir,\n",
    "                         return_as_list = True,\n",
    "                         temperature = 0.8)"
   ]
  },
  {
   "cell_type": "code",
   "execution_count": 21,
   "metadata": {},
   "outputs": [
    {
     "data": {
      "text/html": [
       "<div>\n",
       "<style scoped>\n",
       "    .dataframe tbody tr th:only-of-type {\n",
       "        vertical-align: middle;\n",
       "    }\n",
       "\n",
       "    .dataframe tbody tr th {\n",
       "        vertical-align: top;\n",
       "    }\n",
       "\n",
       "    .dataframe thead th {\n",
       "        text-align: right;\n",
       "    }\n",
       "</style>\n",
       "<table border=\"1\" class=\"dataframe\">\n",
       "  <thead>\n",
       "    <tr style=\"text-align: right;\">\n",
       "      <th></th>\n",
       "      <th>Generated Text</th>\n",
       "      <th>Similarity</th>\n",
       "      <th>Simplicity</th>\n",
       "      <th>Fit Score</th>\n",
       "      <th>SentNo</th>\n",
       "    </tr>\n",
       "  </thead>\n",
       "  <tbody>\n",
       "    <tr>\n",
       "      <th>0</th>\n",
       "      <td>These must be called displacement and the force must cause the displacement.</td>\n",
       "      <td>0.933517</td>\n",
       "      <td>1.000000</td>\n",
       "      <td>0.953462</td>\n",
       "      <td>Sent2</td>\n",
       "    </tr>\n",
       "    <tr>\n",
       "      <th>1</th>\n",
       "      <td>In order for a force to qualify as having done work on an object, there must be a displacement and the force must cause the displacement.</td>\n",
       "      <td>1.000000</td>\n",
       "      <td>0.666667</td>\n",
       "      <td>0.900000</td>\n",
       "      <td>Sent2</td>\n",
       "    </tr>\n",
       "    <tr>\n",
       "      <th>4</th>\n",
       "      <td>In order for a force to qualify as having done work on an object, there must be a displacement and the force must create the displacement.</td>\n",
       "      <td>0.992240</td>\n",
       "      <td>0.000000</td>\n",
       "      <td>0.694568</td>\n",
       "      <td>Sent2</td>\n",
       "    </tr>\n",
       "  </tbody>\n",
       "</table>\n",
       "</div>"
      ],
      "text/plain": [
       "                                                                                                                               Generated Text  \\\n",
       "0                                                                These must be called displacement and the force must cause the displacement.   \n",
       "1   In order for a force to qualify as having done work on an object, there must be a displacement and the force must cause the displacement.   \n",
       "4  In order for a force to qualify as having done work on an object, there must be a displacement and the force must create the displacement.   \n",
       "\n",
       "   Similarity  Simplicity  Fit Score SentNo  \n",
       "0    0.933517    1.000000   0.953462  Sent2  \n",
       "1    1.000000    0.666667   0.900000  Sent2  \n",
       "4    0.992240    0.000000   0.694568  Sent2  "
      ]
     },
     "execution_count": 21,
     "metadata": {},
     "output_type": "execute_result"
    }
   ],
   "source": [
    "AllSent.drop_duplicates()"
   ]
  },
  {
   "cell_type": "code",
   "execution_count": 89,
   "metadata": {},
   "outputs": [],
   "source": []
  },
  {
   "cell_type": "code",
   "execution_count": 120,
   "metadata": {},
   "outputs": [
    {
     "data": {
      "text/html": [
       "<div>\n",
       "<style scoped>\n",
       "    .dataframe tbody tr th:only-of-type {\n",
       "        vertical-align: middle;\n",
       "    }\n",
       "\n",
       "    .dataframe tbody tr th {\n",
       "        vertical-align: top;\n",
       "    }\n",
       "\n",
       "    .dataframe thead th {\n",
       "        text-align: right;\n",
       "    }\n",
       "</style>\n",
       "<table border=\"1\" class=\"dataframe\">\n",
       "  <thead>\n",
       "    <tr style=\"text-align: right;\">\n",
       "      <th></th>\n",
       "      <th>Generated Text</th>\n",
       "      <th>Similarity</th>\n",
       "      <th>Simplicity</th>\n",
       "      <th>Fit Score</th>\n",
       "    </tr>\n",
       "  </thead>\n",
       "  <tbody>\n",
       "    <tr>\n",
       "      <th>0</th>\n",
       "      <td>When a force causes a displacement of the object, it is said that work was done on the object.</td>\n",
       "      <td>0.978373</td>\n",
       "      <td>1.000000</td>\n",
       "      <td>0.984861</td>\n",
       "    </tr>\n",
       "    <tr>\n",
       "      <th>1</th>\n",
       "      <td>When a force acts upon an object, it is said that work was done upon the object and that the displacement of the object would have had to have been done.</td>\n",
       "      <td>0.994325</td>\n",
       "      <td>0.333333</td>\n",
       "      <td>0.796028</td>\n",
       "    </tr>\n",
       "    <tr>\n",
       "      <th>2</th>\n",
       "      <td>This is translated from the Greek word `` work '', which means `` to work '', `` to work '' and `` to work ''.</td>\n",
       "      <td>0.777808</td>\n",
       "      <td>0.666667</td>\n",
       "      <td>0.744465</td>\n",
       "    </tr>\n",
       "    <tr>\n",
       "      <th>3</th>\n",
       "      <td>When a force acts upon an object to cause a displacement of the object, it is said that work was done upon the object.</td>\n",
       "      <td>1.000000</td>\n",
       "      <td>0.000000</td>\n",
       "      <td>0.700000</td>\n",
       "    </tr>\n",
       "    <tr>\n",
       "      <th>4</th>\n",
       "      <td>When a force acts upon an object to cause a displacement of the object, it is said that work was done upon the object.</td>\n",
       "      <td>1.000000</td>\n",
       "      <td>0.000000</td>\n",
       "      <td>0.700000</td>\n",
       "    </tr>\n",
       "  </tbody>\n",
       "</table>\n",
       "</div>"
      ],
      "text/plain": [
       "                                                                                                                                              Generated Text  \\\n",
       "0                                                             When a force causes a displacement of the object, it is said that work was done on the object.   \n",
       "1  When a force acts upon an object, it is said that work was done upon the object and that the displacement of the object would have had to have been done.   \n",
       "2                                             This is translated from the Greek word `` work '', which means `` to work '', `` to work '' and `` to work ''.   \n",
       "3                                     When a force acts upon an object to cause a displacement of the object, it is said that work was done upon the object.   \n",
       "4                                     When a force acts upon an object to cause a displacement of the object, it is said that work was done upon the object.   \n",
       "\n",
       "   Similarity  Simplicity  Fit Score  \n",
       "0    0.978373    1.000000   0.984861  \n",
       "1    0.994325    0.333333   0.796028  \n",
       "2    0.777808    0.666667   0.744465  \n",
       "3    1.000000    0.000000   0.700000  \n",
       "4    1.000000    0.000000   0.700000  "
      ]
     },
     "execution_count": 120,
     "metadata": {},
     "output_type": "execute_result"
    }
   ],
   "source": [
    "SentFit = sentence_fit(gen_text, test_text).sort_values(by = ['Fit Score'], ascending = False).reset_index(drop = True)\n",
    "SentFit"
   ]
  },
  {
   "cell_type": "code",
   "execution_count": 128,
   "metadata": {},
   "outputs": [],
   "source": [
    "Sent = list(SentFit[SentFit['Fit Score'] == SentFit['Fit Score'].max()]['Generated Text'])[0]"
   ]
  },
  {
   "cell_type": "code",
   "execution_count": 131,
   "metadata": {},
   "outputs": [
    {
     "data": {
      "text/html": [
       "<div>\n",
       "<style scoped>\n",
       "    .dataframe tbody tr th:only-of-type {\n",
       "        vertical-align: middle;\n",
       "    }\n",
       "\n",
       "    .dataframe tbody tr th {\n",
       "        vertical-align: top;\n",
       "    }\n",
       "\n",
       "    .dataframe thead th {\n",
       "        text-align: right;\n",
       "    }\n",
       "</style>\n",
       "<table border=\"1\" class=\"dataframe\">\n",
       "  <thead>\n",
       "    <tr style=\"text-align: right;\">\n",
       "      <th></th>\n",
       "      <th>SentNo</th>\n",
       "      <th>Sentence</th>\n",
       "    </tr>\n",
       "  </thead>\n",
       "  <tbody>\n",
       "    <tr>\n",
       "      <th>0</th>\n",
       "      <td>Sent1</td>\n",
       "      <td>When a force causes a displacement of the object, it is said that work was done on the object.</td>\n",
       "    </tr>\n",
       "  </tbody>\n",
       "</table>\n",
       "</div>"
      ],
      "text/plain": [
       "  SentNo  \\\n",
       "0  Sent1   \n",
       "\n",
       "                                                                                         Sentence  \n",
       "0  When a force causes a displacement of the object, it is said that work was done on the object.  "
      ]
     },
     "execution_count": 131,
     "metadata": {},
     "output_type": "execute_result"
    }
   ],
   "source": [
    "pd.DataFrame({'SentNo': 'Sent1',\n",
    "              'Sentence' : [Sent]})"
   ]
  },
  {
   "cell_type": "code",
   "execution_count": null,
   "metadata": {},
   "outputs": [],
   "source": []
  },
  {
   "cell_type": "code",
   "execution_count": null,
   "metadata": {},
   "outputs": [],
   "source": []
  },
  {
   "cell_type": "code",
   "execution_count": null,
   "metadata": {},
   "outputs": [],
   "source": []
  },
  {
   "cell_type": "code",
   "execution_count": 11,
   "metadata": {},
   "outputs": [],
   "source": [
    "prac_text = (\n",
    "    '''A wave doesn't just stop when it reaches the end of the medium. Rather, a wave will undergo certain behaviors when it encounters the end of the medium. Specifically, there will be some reflection off the boundary and some transmission into the new medium. The transmitted wave undergoes refraction (or bending) if it approaches the boundary at an angle. If the boundary is merely an obstacle implanted within the medium, and if the dimensions of the obstacle are smaller than the wavelength of the wave, then there will be very noticeable diffraction of the wave around the object. Each one of these behaviors - reflection, refraction and diffraction - is characterized by specific conceptual principles and mathematical equations'''\n",
    "            )"
   ]
  },
  {
   "cell_type": "code",
   "execution_count": 18,
   "metadata": {},
   "outputs": [
    {
     "data": {
      "text/html": [
       "<div>\n",
       "<style scoped>\n",
       "    .dataframe tbody tr th:only-of-type {\n",
       "        vertical-align: middle;\n",
       "    }\n",
       "\n",
       "    .dataframe tbody tr th {\n",
       "        vertical-align: top;\n",
       "    }\n",
       "\n",
       "    .dataframe thead th {\n",
       "        text-align: right;\n",
       "    }\n",
       "</style>\n",
       "<table border=\"1\" class=\"dataframe\">\n",
       "  <thead>\n",
       "    <tr style=\"text-align: right;\">\n",
       "      <th></th>\n",
       "      <th>sentences</th>\n",
       "    </tr>\n",
       "  </thead>\n",
       "  <tbody>\n",
       "    <tr>\n",
       "      <th>0</th>\n",
       "      <td>A wave doesn't just stop when it reaches the end of the medium.</td>\n",
       "    </tr>\n",
       "    <tr>\n",
       "      <th>1</th>\n",
       "      <td>Rather, a wave will undergo certain behaviors when it encounters the end of the medium.</td>\n",
       "    </tr>\n",
       "    <tr>\n",
       "      <th>2</th>\n",
       "      <td>Specifically, there will be some reflection off the boundary and some transmission into the new medium.</td>\n",
       "    </tr>\n",
       "    <tr>\n",
       "      <th>3</th>\n",
       "      <td>The transmitted wave undergoes refraction (or bending) if it approaches the boundary at an angle.</td>\n",
       "    </tr>\n",
       "    <tr>\n",
       "      <th>4</th>\n",
       "      <td>If the boundary is merely an obstacle implanted within the medium, and if the dimensions of the obstacle are smaller than the wavelength of the wave, then there will be very noticeable diffraction of the wave around the object.</td>\n",
       "    </tr>\n",
       "    <tr>\n",
       "      <th>5</th>\n",
       "      <td>Each one of these behaviors - reflection, refraction and diffraction - is characterized by specific conceptual principles and mathematical equations</td>\n",
       "    </tr>\n",
       "  </tbody>\n",
       "</table>\n",
       "</div>"
      ],
      "text/plain": [
       "                                                                                                                                                                                                                             sentences\n",
       "0                                                                                                                                                                      A wave doesn't just stop when it reaches the end of the medium.\n",
       "1                                                                                                                                              Rather, a wave will undergo certain behaviors when it encounters the end of the medium.\n",
       "2                                                                                                                              Specifically, there will be some reflection off the boundary and some transmission into the new medium.\n",
       "3                                                                                                                                    The transmitted wave undergoes refraction (or bending) if it approaches the boundary at an angle.\n",
       "4  If the boundary is merely an obstacle implanted within the medium, and if the dimensions of the obstacle are smaller than the wavelength of the wave, then there will be very noticeable diffraction of the wave around the object.\n",
       "5                                                                                 Each one of these behaviors - reflection, refraction and diffraction - is characterized by specific conceptual principles and mathematical equations"
      ]
     },
     "execution_count": 18,
     "metadata": {},
     "output_type": "execute_result"
    }
   ],
   "source": [
    "sent_list = [str(s) for s in sent_break(prac_text)]\n",
    "pd.DataFrame(sent_list, columns = ['sentences'])"
   ]
  },
  {
   "cell_type": "code",
   "execution_count": null,
   "metadata": {},
   "outputs": [],
   "source": []
  }
 ],
 "metadata": {
  "kernelspec": {
   "display_name": "Python 3",
   "language": "python",
   "name": "python3"
  },
  "language_info": {
   "codemirror_mode": {
    "name": "ipython",
    "version": 3
   },
   "file_extension": ".py",
   "mimetype": "text/x-python",
   "name": "python",
   "nbconvert_exporter": "python",
   "pygments_lexer": "ipython3",
   "version": "3.7.9"
  }
 },
 "nbformat": 4,
 "nbformat_minor": 4
}
