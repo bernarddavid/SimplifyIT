{
 "cells": [
  {
   "cell_type": "markdown",
   "metadata": {},
   "source": [
    "# OneStopEnglish: Exploratory Data Analysis"
   ]
  },
  {
   "cell_type": "code",
   "execution_count": 1,
   "metadata": {},
   "outputs": [],
   "source": [
    "# Import packages\n",
    "import numpy as np\n",
    "import pandas as pd\n",
    "import spacy\n",
    "import re\n",
    "import textstat\n",
    "import os\n",
    "from os import listdir\n",
    "from os.path import join, isfile\n",
    "import chardet"
   ]
  },
  {
   "cell_type": "code",
   "execution_count": 2,
   "metadata": {},
   "outputs": [],
   "source": [
    "# Sets option to display all text in pandas dataframes\n",
    "pd.set_option('display.max_colwidth', None)"
   ]
  },
  {
   "cell_type": "code",
   "execution_count": 89,
   "metadata": {},
   "outputs": [],
   "source": [
    "# Get file path for OneStopEnglish Corpus from individual TXT files.\n",
    "FilePath = os.getcwd() + '/OneStopEng/TextByReadingLevel/'\n",
    "\n",
    "# For some reason there are two \"Int\" files--do not import the first, as there \n",
    "SubDir = [join(FilePath, f)+'/' for f in listdir(FilePath) if f != 'Int-Txt']\n",
    "\n",
    "# Load all texts into pandas data frame\n",
    "TextDF = pd.DataFrame()\n",
    "\n",
    "for s in SubDir:\n",
    "    TextFiles = listdir(s)\n",
    "\n",
    "    for t in TextFiles:\n",
    "        # There is a hidden .ds_store file that should be skipped when importing data\n",
    "        if t == '.DS_Store':\n",
    "            pass\n",
    "        else:\n",
    "            file = open(s + t, 'r')\n",
    "            text = file.read()\n",
    "            file.close()\n",
    "\n",
    "            TextDF = TextDF.append({'file_nm' : t,\n",
    "                                    'text' : text},\n",
    "                                   ignore_index = True)"
   ]
  },
  {
   "cell_type": "code",
   "execution_count": 90,
   "metadata": {},
   "outputs": [
    {
     "data": {
      "text/plain": [
       "level\n",
       "adv    189\n",
       "ele    189\n",
       "int    189\n",
       "Name: text, dtype: int64"
      ]
     },
     "execution_count": 90,
     "metadata": {},
     "output_type": "execute_result"
    }
   ],
   "source": [
    "# Isolate name and level of text and drop file_nm\n",
    "TextDF['name'] = TextDF['file_nm'].str[:-8]\n",
    "TextDF['level'] = TextDF['file_nm'].str[-7:-4]\n",
    "TextDF['text'] = TextDF['text'].apply(str)\n",
    "\n",
    "TextDF.groupby(['level'])['text'].count()\n",
    "\n",
    "# Intermediate text is labeled--this should be removed\n",
    "# TextDF['text'] = TextDF['text'].map(lambda x: x.lstrip('Intermediate'))\n",
    "# TextDF['text'] = TextDF['text'].str.replace('\\n', ' ')"
   ]
  },
  {
   "cell_type": "code",
   "execution_count": 91,
   "metadata": {},
   "outputs": [],
   "source": [
    "# Compute text difficulty using textstat\n",
    "TextDF['difficulty'] = TextDF['text'].apply(textstat.flesch_reading_ease)\n",
    "\n",
    "# Compute different statistics for text entries\n",
    "TextDF['n_sent'] = TextDF['text'].apply(textstat.sentence_count)\n",
    "TextDF['n_syll'] = TextDF['text'].apply(textstat.syllable_count)\n",
    "TextDF['n_lex'] = TextDF['text'].apply(textstat.lexicon_count)\n",
    "TextDF['syll_sent'] = TextDF['n_syll']/TextDF['n_sent']"
   ]
  },
  {
   "cell_type": "code",
   "execution_count": 101,
   "metadata": {},
   "outputs": [
    {
     "data": {
      "text/plain": [
       "level\n",
       "adv    AxesSubplot(0.125,0.125;0.775x0.755)\n",
       "ele    AxesSubplot(0.125,0.125;0.775x0.755)\n",
       "int    AxesSubplot(0.125,0.125;0.775x0.755)\n",
       "Name: difficulty, dtype: object"
      ]
     },
     "execution_count": 101,
     "metadata": {},
     "output_type": "execute_result"
    },
    {
     "data": {
      "image/png": "[encoded data removed]",
      "text/plain": [
       "<Figure size 432x288 with 1 Axes>"
      ]
     },
     "metadata": {
      "needs_background": "light"
     },
     "output_type": "display_data"
    }
   ],
   "source": [
    "TextDF.groupby('level')['difficulty'].plot(kind = 'hist', legend = True, alpha = 0.5)"
   ]
  },
  {
   "cell_type": "markdown",
   "metadata": {},
   "source": [
    "# Basic ML Models"
   ]
  },
  {
   "cell_type": "code",
   "execution_count": 93,
   "metadata": {},
   "outputs": [],
   "source": [
    "# Set seed so results can be reproduced\n",
    "randomseed = 20200922"
   ]
  },
  {
   "cell_type": "code",
   "execution_count": 117,
   "metadata": {},
   "outputs": [],
   "source": [
    "from sklearn.model_selection import train_test_split\n",
    "from sklearn import preprocessing\n",
    "from sklearn.naive_bayes import GaussianNB\n",
    "from sklearn.metrics import accuracy_score"
   ]
  },
  {
   "cell_type": "code",
   "execution_count": 110,
   "metadata": {},
   "outputs": [],
   "source": [
    "# Preprocess data\n",
    "\n",
    "# Label encoder\n",
    "le = preprocessing.LabelEncoder()\n",
    "\n",
    "# Subset TextDF to desired variables\n",
    "MLDat = TextDF[['level', 'difficulty', 'n_sent', 'n_syll', 'n_lex']].reset_index().drop(columns = ['index'])\n",
    "MLDat['level'] = le.fit_transform(MLDat['level'])\n",
    "\n",
    "y = MLDat['level']\n",
    "X = MLDat[['difficulty', 'n_sent', 'n_syll', 'n_lex']]\n",
    "\n",
    "X_train, X_test, y_train, y_test = train_test_split(X.index, y, test_size = 0.2, random_state = randomseed)"
   ]
  },
  {
   "cell_type": "code",
   "execution_count": 114,
   "metadata": {},
   "outputs": [
    {
     "data": {
      "text/html": [
       "<div>\n",
       "<style scoped>\n",
       "    .dataframe tbody tr th:only-of-type {\n",
       "        vertical-align: middle;\n",
       "    }\n",
       "\n",
       "    .dataframe tbody tr th {\n",
       "        vertical-align: top;\n",
       "    }\n",
       "\n",
       "    .dataframe thead th {\n",
       "        text-align: right;\n",
       "    }\n",
       "</style>\n",
       "<table border=\"1\" class=\"dataframe\">\n",
       "  <thead>\n",
       "    <tr style=\"text-align: right;\">\n",
       "      <th></th>\n",
       "      <th>level</th>\n",
       "      <th>difficulty</th>\n",
       "      <th>n_sent</th>\n",
       "      <th>n_syll</th>\n",
       "      <th>n_lex</th>\n",
       "    </tr>\n",
       "  </thead>\n",
       "  <tbody>\n",
       "    <tr>\n",
       "      <th>0</th>\n",
       "      <td>1</td>\n",
       "      <td>67.49</td>\n",
       "      <td>19</td>\n",
       "      <td>547</td>\n",
       "      <td>391</td>\n",
       "    </tr>\n",
       "    <tr>\n",
       "      <th>1</th>\n",
       "      <td>1</td>\n",
       "      <td>62.92</td>\n",
       "      <td>26</td>\n",
       "      <td>927</td>\n",
       "      <td>653</td>\n",
       "    </tr>\n",
       "    <tr>\n",
       "      <th>2</th>\n",
       "      <td>1</td>\n",
       "      <td>76.35</td>\n",
       "      <td>32</td>\n",
       "      <td>839</td>\n",
       "      <td>646</td>\n",
       "    </tr>\n",
       "    <tr>\n",
       "      <th>3</th>\n",
       "      <td>1</td>\n",
       "      <td>40.08</td>\n",
       "      <td>11</td>\n",
       "      <td>720</td>\n",
       "      <td>524</td>\n",
       "    </tr>\n",
       "    <tr>\n",
       "      <th>4</th>\n",
       "      <td>1</td>\n",
       "      <td>76.66</td>\n",
       "      <td>25</td>\n",
       "      <td>659</td>\n",
       "      <td>497</td>\n",
       "    </tr>\n",
       "  </tbody>\n",
       "</table>\n",
       "</div>"
      ],
      "text/plain": [
       "   level  difficulty  n_sent  n_syll  n_lex\n",
       "0      1       67.49      19     547    391\n",
       "1      1       62.92      26     927    653\n",
       "2      1       76.35      32     839    646\n",
       "3      1       40.08      11     720    524\n",
       "4      1       76.66      25     659    497"
      ]
     },
     "execution_count": 114,
     "metadata": {},
     "output_type": "execute_result"
    }
   ],
   "source": []
  },
  {
   "cell_type": "code",
   "execution_count": 10,
   "metadata": {},
   "outputs": [],
   "source": [
    "#\n",
    "\n",
    "# Get file path to OneStopEnglish Corpus including combined CSV files.\n",
    "FilePath = os.getcwd() + '/OneStopEng/TextOneCSVPerFile/'\n",
    "\n",
    "# Texts are organized by difficulty level\n",
    "Files = listdir(FilePath)\n",
    "\n",
    "# Import all texts into pandas dataframe\n",
    "oseDF = pd.DataFrame() # Initialize dataframe\n",
    "\n",
    "# Loop through all files\n",
    "for f in Files:\n",
    "    \n",
    "    # Files have different encodings\n",
    "    # Find the encoding for each file and use that in read_csv command\n",
    "    with open(FilePath + f, 'rb') as rawdat:\n",
    "        result = chardet.detect(rawdat.read(10000))\n",
    "        \n",
    "    oseDFA = pd.read_csv(FilePath + f, encoding = result['encoding'])\n",
    "    oseDFA['name'] = f\n",
    "    \n",
    "    oseDF = oseDF.append(oseDFA)"
   ]
  }
 ],
 "metadata": {
  "kernelspec": {
   "display_name": "Python 3",
   "language": "python",
   "name": "python3"
  },
  "language_info": {
   "codemirror_mode": {
    "name": "ipython",
    "version": 3
   },
   "file_extension": ".py",
   "mimetype": "text/x-python",
   "name": "python",
   "nbconvert_exporter": "python",
   "pygments_lexer": "ipython3",
   "version": "3.7.9"
  }
 },
 "nbformat": 4,
 "nbformat_minor": 4
}
