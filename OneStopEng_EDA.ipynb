{
 "cells": [
  {
   "cell_type": "markdown",
   "metadata": {},
   "source": [
    "# OneStopEnglish: Data Clearning and EDA\n",
    "This script imports the One Stop English corpus, which consists of leveled text entries (beginner, intermediate, advanced) aligned to the same topic. Several features of the text entries are calculated using the `textstat` package so that these features can be incoporated in a machine learning classification model to predict text complexity. Two data sets are prepared:\n",
    "1. A one column CSV file containing only text entries to be used to train NLP models.\n",
    "1. A dataframe containing numerical characteristics about text entries to be used in training ML models to evaluate text complexity."
   ]
  },
  {
   "cell_type": "code",
   "execution_count": 1,
   "metadata": {},
   "outputs": [],
   "source": [
    "# Import packages\n",
    "import numpy as np\n",
    "import pandas as pd\n",
    "import spacy\n",
    "import nltk\n",
    "import re\n",
    "import textstat\n",
    "import os\n",
    "from os import listdir\n",
    "from os.path import join, isfile\n",
    "import chardet"
   ]
  },
  {
   "cell_type": "code",
   "execution_count": 132,
   "metadata": {},
   "outputs": [],
   "source": [
    "# Function splits text, t, into sentences\n",
    "def sent_break(t):\n",
    "    nlp = spacy.load('en_core_web_sm')\n",
    "    doc = nlp(t)\n",
    "    return doc.sents\n",
    "\n",
    "# Function counts the number of words in text t\n",
    "def word_count(t):\n",
    "    sents = sent_break(t)\n",
    "    n_words = 0\n",
    "    for s in sents:\n",
    "        n_words += len([token for token in s])\n",
    "    return n_words\n",
    "\n",
    "# Function counts the number of sentences in text t\n",
    "def sent_count(t):\n",
    "    sents = sent_break(t)\n",
    "    return len(list(sents))"
   ]
  },
  {
   "cell_type": "code",
   "execution_count": 135,
   "metadata": {},
   "outputs": [
    {
     "data": {
      "text/plain": [
       "126"
      ]
     },
     "execution_count": 135,
     "metadata": {},
     "output_type": "execute_result"
    }
   ],
   "source": [
    "text = TextDF['text'][1]\n",
    "# for s in sent_break(text):\n",
    "#     s = re.sub(r'[^a-zA-Z\\s]', '', str(s))\n",
    "#     print(s)\n",
    "np.abs(word_count(text) - textstat.lexicon_count(text))"
   ]
  },
  {
   "cell_type": "code",
   "execution_count": 117,
   "metadata": {},
   "outputs": [],
   "source": [
    "text = re.sub(r'[^a-zA-Z\\s]', '', text)"
   ]
  },
  {
   "cell_type": "code",
   "execution_count": 134,
   "metadata": {},
   "outputs": [
    {
     "data": {
      "text/plain": [
       "653"
      ]
     },
     "execution_count": 134,
     "metadata": {},
     "output_type": "execute_result"
    }
   ],
   "source": []
  },
  {
   "cell_type": "code",
   "execution_count": null,
   "metadata": {},
   "outputs": [],
   "source": []
  },
  {
   "cell_type": "code",
   "execution_count": 3,
   "metadata": {},
   "outputs": [],
   "source": [
    "# Sets option to display all text in pandas dataframes\n",
    "pd.set_option('display.max_colwidth', None)"
   ]
  },
  {
   "cell_type": "code",
   "execution_count": 27,
   "metadata": {},
   "outputs": [],
   "source": [
    "# Get file path for OneStopEnglish Corpus from individual TXT files.\n",
    "FilePath = os.getcwd() + '/OneStopEng/TextByReadingLevel/'\n",
    "\n",
    "# For some reason there are two \"Int\" files--do not import the first, as there \n",
    "SubDir = [join(FilePath, f)+'/' for f in listdir(FilePath) if f != 'Int-Txt']\n",
    "\n",
    "# Load all texts into pandas data frame\n",
    "TextDF = pd.DataFrame()\n",
    "\n",
    "for s in SubDir:\n",
    "\n",
    "    TextFiles = listdir(s)\n",
    "\n",
    "    for t in TextFiles:\n",
    "        # There is a hidden .ds_store file that should be skipped when importing data\n",
    "        if t == '.DS_Store':\n",
    "            pass\n",
    "        else:\n",
    "            with open(s + t, 'rb') as rawdat:\n",
    "                result = chardet.detect(rawdat.read(10000))\n",
    "\n",
    "                \n",
    "            file = open(s + t, 'r', encoding = result['encoding'])\n",
    "            text = file.read()\n",
    "            file.close()\n",
    "\n",
    "            # Append text data and file name to dataframe\n",
    "            TextDF = TextDF.append({'file_nm' : t,\n",
    "                                    'text' : text},\n",
    "                                   ignore_index = True)"
   ]
  },
  {
   "cell_type": "code",
   "execution_count": 28,
   "metadata": {},
   "outputs": [],
   "source": [
    "# Export all texts to csv file for analysis in SimpleGPT2, need to specify encoding or odd figures show\n",
    "# Column must be included for file to successfully be read into SimpleGPT2\n",
    "TextDF['text'] = TextDF['text'].apply(str)\n",
    "TextDF['text'].to_csv('OSE_OnlyTexts.csv', encoding = 'utf-8-sig', index = False)"
   ]
  },
  {
   "cell_type": "code",
   "execution_count": 29,
   "metadata": {},
   "outputs": [
    {
     "data": {
      "text/plain": [
       "level\n",
       "adv    189\n",
       "ele    189\n",
       "int    189\n",
       "Name: text, dtype: int64"
      ]
     },
     "execution_count": 29,
     "metadata": {},
     "output_type": "execute_result"
    }
   ],
   "source": [
    "# Isolate name and level of text\n",
    "TextDF['name'] = TextDF['file_nm'].str[:-8]\n",
    "TextDF['level'] = TextDF['file_nm'].str[-7:-4]\n",
    "TextDF['text'] = TextDF['text'].apply(str)\n",
    "\n",
    "TextDF.groupby(['level'])['text'].count()\n",
    "\n",
    "# Intermediate text is labeled--this should be removed\n",
    "# TextDF['text'] = TextDF['text'].map(lambda x: x.lstrip('Intermediate'))\n",
    "# TextDF['text'] = TextDF['text'].str.replace('\\n', ' ')"
   ]
  },
  {
   "cell_type": "code",
   "execution_count": 30,
   "metadata": {},
   "outputs": [],
   "source": [
    "# Clean text (text_c) by lowering, removing numbers, removing symbols, and reducing to single space\n",
    "TextDF['text_c'] = TextDF['text'].str.lower().str.replace(r'[^a-zA-Z\\s]', '')\n",
    "TextDF['text_c'] = TextDF['text_c'].str.replace(r'\\n', ' ').str.replace(r'\\s+\\s', ' ')"
   ]
  },
  {
   "cell_type": "code",
   "execution_count": 57,
   "metadata": {},
   "outputs": [],
   "source": [
    "# Compute text difficulty using textstat\n",
    "TextDF['difficulty'] = TextDF['text'].apply(textstat.flesch_reading_ease)\n",
    "\n",
    "# Compute different statistics for text entries\n",
    "TextDF['n_sent'] = TextDF['text'].apply(sent_count)\n",
    "TextDF['n_syll'] = TextDF['text'].apply(textstat.syllable_count)\n",
    "TextDF['n_lex'] = TextDF['text'].apply(textstat.lexicon_count)\n",
    "TextDF['lex_sent'] = TextDF['n_lex']/TextDF['n_sent']\n",
    "TextDF['syll_lex'] = TextDF['n_syll']"
   ]
  },
  {
   "cell_type": "code",
   "execution_count": 58,
   "metadata": {},
   "outputs": [
    {
     "data": {
      "text/plain": [
       "level\n",
       "adv    AxesSubplot(0.125,0.125;0.775x0.755)\n",
       "ele    AxesSubplot(0.125,0.125;0.775x0.755)\n",
       "int    AxesSubplot(0.125,0.125;0.775x0.755)\n",
       "Name: n_sent, dtype: object"
      ]
     },
     "execution_count": 58,
     "metadata": {},
     "output_type": "execute_result"
    },
    {
     "data": {
      "image/png": "[encoded data removed]",
      "text/plain": [
       "<Figure size 432x288 with 1 Axes>"
      ]
     },
     "metadata": {
      "needs_background": "light"
     },
     "output_type": "display_data"
    }
   ],
   "source": [
    "TextDF.groupby('level')['n_sent'].plot(kind = 'hist', legend = True, alpha = 0.5)"
   ]
  },
  {
   "cell_type": "code",
   "execution_count": 59,
   "metadata": {},
   "outputs": [
    {
     "data": {
      "text/plain": [
       "level\n",
       "adv    AxesSubplot(0.125,0.125;0.775x0.755)\n",
       "ele    AxesSubplot(0.125,0.125;0.775x0.755)\n",
       "int    AxesSubplot(0.125,0.125;0.775x0.755)\n",
       "Name: n_syll, dtype: object"
      ]
     },
     "execution_count": 59,
     "metadata": {},
     "output_type": "execute_result"
    },
    {
     "data": {
      "image/png": "[encoded data removed]",
      "text/plain": [
       "<Figure size 432x288 with 1 Axes>"
      ]
     },
     "metadata": {
      "needs_background": "light"
     },
     "output_type": "display_data"
    }
   ],
   "source": [
    "TextDF.groupby('level')['n_syll'].plot(kind = 'hist', legend = True, alpha = 0.5)"
   ]
  },
  {
   "cell_type": "code",
   "execution_count": 60,
   "metadata": {},
   "outputs": [
    {
     "data": {
      "text/plain": [
       "level\n",
       "adv    AxesSubplot(0.125,0.125;0.775x0.755)\n",
       "ele    AxesSubplot(0.125,0.125;0.775x0.755)\n",
       "int    AxesSubplot(0.125,0.125;0.775x0.755)\n",
       "Name: n_lex, dtype: object"
      ]
     },
     "execution_count": 60,
     "metadata": {},
     "output_type": "execute_result"
    },
    {
     "data": {
      "image/png": "[encoded data removed]",
      "text/plain": [
       "<Figure size 432x288 with 1 Axes>"
      ]
     },
     "metadata": {
      "needs_background": "light"
     },
     "output_type": "display_data"
    }
   ],
   "source": [
    "TextDF.groupby('level')['n_lex'].plot(kind = 'hist', legend = True, alpha = 0.5)"
   ]
  },
  {
   "cell_type": "code",
   "execution_count": 61,
   "metadata": {},
   "outputs": [
    {
     "data": {
      "text/plain": [
       "level\n",
       "adv    AxesSubplot(0.125,0.125;0.775x0.755)\n",
       "ele    AxesSubplot(0.125,0.125;0.775x0.755)\n",
       "int    AxesSubplot(0.125,0.125;0.775x0.755)\n",
       "Name: lex_sent, dtype: object"
      ]
     },
     "execution_count": 61,
     "metadata": {},
     "output_type": "execute_result"
    },
    {
     "data": {
      "image/png": "[encoded data removed]",
      "text/plain": [
       "<Figure size 432x288 with 1 Axes>"
      ]
     },
     "metadata": {
      "needs_background": "light"
     },
     "output_type": "display_data"
    }
   ],
   "source": [
    "TextDF.groupby('level')['lex_sent'].plot(kind = 'hist', legend = True, alpha = 0.5)"
   ]
  },
  {
   "cell_type": "code",
   "execution_count": 62,
   "metadata": {},
   "outputs": [
    {
     "data": {
      "text/plain": [
       "level\n",
       "adv    AxesSubplot(0.125,0.125;0.775x0.755)\n",
       "ele    AxesSubplot(0.125,0.125;0.775x0.755)\n",
       "int    AxesSubplot(0.125,0.125;0.775x0.755)\n",
       "Name: syll_lex, dtype: object"
      ]
     },
     "execution_count": 62,
     "metadata": {},
     "output_type": "execute_result"
    },
    {
     "data": {
      "image/png": "[encoded data removed]",
      "text/plain": [
       "<Figure size 432x288 with 1 Axes>"
      ]
     },
     "metadata": {
      "needs_background": "light"
     },
     "output_type": "display_data"
    }
   ],
   "source": [
    "TextDF.groupby('level')['syll_lex'].plot(kind = 'hist', legend = True, alpha = 0.5)"
   ]
  },
  {
   "cell_type": "code",
   "execution_count": 63,
   "metadata": {},
   "outputs": [
    {
     "data": {
      "text/plain": [
       "level\n",
       "adv    AxesSubplot(0.125,0.125;0.775x0.755)\n",
       "ele    AxesSubplot(0.125,0.125;0.775x0.755)\n",
       "int    AxesSubplot(0.125,0.125;0.775x0.755)\n",
       "Name: difficulty, dtype: object"
      ]
     },
     "execution_count": 63,
     "metadata": {},
     "output_type": "execute_result"
    },
    {
     "data": {
      "image/png": "[encoded data removed]",
      "text/plain": [
       "<Figure size 432x288 with 1 Axes>"
      ]
     },
     "metadata": {
      "needs_background": "light"
     },
     "output_type": "display_data"
    }
   ],
   "source": [
    "TextDF.groupby('level')['difficulty'].plot(kind = 'hist', legend = True, alpha = 0.5)"
   ]
  },
  {
   "cell_type": "markdown",
   "metadata": {},
   "source": [
    "# Text Readability Models"
   ]
  },
  {
   "cell_type": "code",
   "execution_count": 39,
   "metadata": {},
   "outputs": [],
   "source": [
    "# Set seed so results can be reproduced\n",
    "randomseed = 20200922"
   ]
  },
  {
   "cell_type": "code",
   "execution_count": 40,
   "metadata": {},
   "outputs": [],
   "source": [
    "from sklearn.model_selection import train_test_split\n",
    "from sklearn import preprocessing\n",
    "from sklearn.naive_bayes import GaussianNB\n",
    "from sklearn.metrics import accuracy_score\n",
    "from sklearn.svm import LinearSVC\n",
    "from sklearn.neighbors import KNeighborsClassifier\n",
    "from sklearn.linear_model import LogisticRegression"
   ]
  },
  {
   "cell_type": "code",
   "execution_count": 97,
   "metadata": {},
   "outputs": [],
   "source": [
    "# Preprocess data\n",
    "\n",
    "# Label encoder\n",
    "le = preprocessing.LabelEncoder()\n",
    "\n",
    "# Define predictor variables\n",
    "PredVars = ['difficulty', 'lex_sent', 'syll_lex']\n",
    "\n",
    "# Subset TextDF to desired variables\n",
    "MLDat = TextDF[['level']+PredVars].reset_index().drop(columns = ['index'])\n",
    "MLDat['level'] = le.fit_transform(MLDat['level'])\n",
    "\n",
    "# Target and predictor variables\n",
    "y = MLDat['level']\n",
    "X = MLDat[PredVars]\n",
    "\n",
    "# Split data set into training and testing\n",
    "X_train, X_test, y_train, y_test = train_test_split(X, y, test_size = 0.2, random_state = randomseed)"
   ]
  },
  {
   "cell_type": "code",
   "execution_count": 98,
   "metadata": {},
   "outputs": [
    {
     "data": {
      "text/plain": [
       "0.7807017543859649"
      ]
     },
     "execution_count": 98,
     "metadata": {},
     "output_type": "execute_result"
    }
   ],
   "source": [
    "# Gaussian Naive Bayes Model\n",
    "gnb = GaussianNB()\n",
    "pred = gnb.fit(X_train, y_train).predict(X_test)\n",
    "accuracy_score(y_test, pred, normalize = True)"
   ]
  },
  {
   "cell_type": "code",
   "execution_count": 99,
   "metadata": {},
   "outputs": [
    {
     "name": "stderr",
     "output_type": "stream",
     "text": [
      "/anaconda3/envs/InsightDS/lib/python3.8/site-packages/sklearn/svm/_base.py:976: ConvergenceWarning: Liblinear failed to converge, increase the number of iterations.\n",
      "  warnings.warn(\"Liblinear failed to converge, increase \"\n"
     ]
    },
    {
     "data": {
      "text/plain": [
       "0.41228070175438597"
      ]
     },
     "execution_count": 99,
     "metadata": {},
     "output_type": "execute_result"
    }
   ],
   "source": [
    "# Linear support vector classification\n",
    "svc = LinearSVC(random_state = randomseed)\n",
    "pred = svc.fit(X_train, y_train).predict(X_test)\n",
    "accuracy_score(y_test, pred, normalize = True)"
   ]
  },
  {
   "cell_type": "code",
   "execution_count": 100,
   "metadata": {},
   "outputs": [
    {
     "data": {
      "text/plain": [
       "0.6578947368421053"
      ]
     },
     "execution_count": 100,
     "metadata": {},
     "output_type": "execute_result"
    }
   ],
   "source": [
    "# K neighbors classifier\n",
    "knc = KNeighborsClassifier(n_neighbors = 3)\n",
    "knc.fit(X_train, y_train)\n",
    "pred = knc.predict(X_test)\n",
    "accuracy_score(y_test, pred, normalize = True)"
   ]
  },
  {
   "cell_type": "code",
   "execution_count": 101,
   "metadata": {},
   "outputs": [
    {
     "data": {
      "text/plain": [
       "0.7456140350877193"
      ]
     },
     "execution_count": 101,
     "metadata": {},
     "output_type": "execute_result"
    }
   ],
   "source": [
    "# Multinomial logistic regression\n",
    "mlr = LogisticRegression(max_iter = 1500)\n",
    "pred = mlr.fit(X_train, y_train).predict(X_test)\n",
    "accuracy_score(y_test, pred, normalize = True)"
   ]
  },
  {
   "cell_type": "code",
   "execution_count": null,
   "metadata": {},
   "outputs": [],
   "source": [
    "###################################\n",
    "# IMPORT DATA STORED IN CSV FILES #\n",
    "###################################\n",
    "\n",
    "# Get file path to OneStopEnglish Corpus including combined CSV files.\n",
    "FilePath = os.getcwd() + '/OneStopEng/TextOneCSVPerFile/'\n",
    "\n",
    "# Texts are organized by difficulty level\n",
    "Files = listdir(FilePath)\n",
    "\n",
    "# Import all texts into pandas dataframe\n",
    "oseDF = pd.DataFrame() # Initialize dataframe\n",
    "\n",
    "# Loop through all files\n",
    "for f in Files:\n",
    "    \n",
    "    # Files have different encodings\n",
    "    # Find the encoding for each file and use that in read_csv command\n",
    "    with open(FilePath + f, 'rb') as rawdat:\n",
    "        result = chardet.detect(rawdat.read(10000))\n",
    "        \n",
    "    oseDFA = pd.read_csv(FilePath + f, encoding = result['encoding'])\n",
    "    oseDFA['name'] = f\n",
    "    \n",
    "    oseDF = oseDF.append(oseDFA)"
   ]
  }
 ],
 "metadata": {
  "kernelspec": {
   "display_name": "Python 3",
   "language": "python",
   "name": "python3"
  }
 },
 "nbformat": 4,
 "nbformat_minor": 4
}
